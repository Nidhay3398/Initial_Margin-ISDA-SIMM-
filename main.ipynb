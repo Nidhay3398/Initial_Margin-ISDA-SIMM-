{
 "cells": [
  {
   "cell_type": "code",
   "execution_count": 8,
   "id": "59e2debb",
   "metadata": {},
   "outputs": [
    {
     "name": "stdout",
     "output_type": "stream",
     "text": [
      "$18,701,859,151.02\n"
     ]
    }
   ],
   "source": [
    "import pandas as pd\n",
    "import agg_margins\n",
    "\n",
    "def main(calc_currency='USD',exchange_rate=1):\n",
    "\n",
    "    #path = '/Users/nidhayacharekar/Documents/NCSU/Post-Graduation Applications/GitHub/Initial Margin Code'\n",
    "    crif = pd.read_csv('crif.csv', header=0)\n",
    "    calc = agg_margins.AggregateMargins(crif,calc_currency,exchange_rate)\n",
    "    results = calc.simm\n",
    "    print(\"${:,}\".format(round(results,2)))\n",
    "    # df.to_excel('...')\n",
    "\n",
    "if __name__ == '__main__':\n",
    "    main('USD')\n"
   ]
  }
 ],
 "metadata": {
  "kernelspec": {
   "display_name": "Python 3 (ipykernel)",
   "language": "python",
   "name": "python3"
  },
  "language_info": {
   "codemirror_mode": {
    "name": "ipython",
    "version": 3
   },
   "file_extension": ".py",
   "mimetype": "text/x-python",
   "name": "python",
   "nbconvert_exporter": "python",
   "pygments_lexer": "ipython3",
   "version": "3.11.5"
  }
 },
 "nbformat": 4,
 "nbformat_minor": 5
}
