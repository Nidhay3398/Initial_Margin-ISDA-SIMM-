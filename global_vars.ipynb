{
 "cells": [
  {
   "cell_type": "code",
   "execution_count": 2,
   "id": "db50cf9c",
   "metadata": {},
   "outputs": [],
   "source": [
    "list_vega        = ['Risk_IRVol','Risk_InflationVol','Risk_CreditVol','Risk_CreditVolNonQ','Risk_EquityVol','Risk_CommodityVol','Risk_FXVol']\n",
    "full_bucket_list = ['1','2','3','4','5','6','7','8','9','10','11','12','13','14','15','16','Residual']\n",
    "tenor_list       = ['2w','1m','3m','6m','1y','2y','3y','5y','10y','15y','20y','30y']\n",
    "list_rates       = ['Risk_IRCurve', 'Risk_Inflation', 'Risk_XCcyBasis', 'Risk_IRVol', 'Risk_InflationVol']\n",
    "list_fx          = ['Risk_FX', 'Risk_FXVol']\n",
    "list_creditQ     = ['Risk_CreditQ', 'Risk_CreditVol', 'Risk_BaseCorr']\n",
    "list_credit_nonQ = ['Risk_CreditNonQ', 'Risk_CreditVolNonQ']\n",
    "list_equity      = ['Risk_Equity', 'Risk_EquityVol']\n",
    "list_commodity   = ['Risk_Commodity', 'Risk_CommodityVol']\n",
    "\n",
    "dict_margin_by_risk_class =   {\n",
    "\n",
    "    'Rates':     {'Delta'      :0, \n",
    "                  'Vega'       :0, \n",
    "                  'Curvature'  :0,\n",
    "                  'BaseCorr'   :0},\n",
    "\n",
    "    'FX':        {'Delta'      :0,\n",
    "                  'Vega'       :0,\n",
    "                  'Curvature'  :0,\n",
    "                  'BaseCorr'   :0},\n",
    "\n",
    "    'CreditQ':   {'Delta'      :0,\n",
    "                  'Vega'       :0,\n",
    "                  'Curvature'  :0,\n",
    "                  'BaseCorr'   :0},\n",
    "\n",
    "    'CreditNonQ':{'Delta'      :0,\n",
    "                  'Vega'       :0,\n",
    "                  'Curvature'  :0,\n",
    "                  'BaseCorr'   :0},\n",
    "\n",
    "    'Equity':    {'Delta'      :0,\n",
    "                  'Vega'       :0,\n",
    "                  'Curvature'  :0,\n",
    "                  'BaseCorr'   :0},\n",
    "\n",
    "    'Commodity': {'Delta'      :0,\n",
    "                  'Vega'       :0,\n",
    "                  'Curvature'  :0,\n",
    "                  'BaseCorr'   :0}\n",
    "                  \n",
    "}"
   ]
  },
  {
   "cell_type": "code",
   "execution_count": null,
   "id": "e7bddcba",
   "metadata": {},
   "outputs": [],
   "source": []
  }
 ],
 "metadata": {
  "kernelspec": {
   "display_name": "Python 3 (ipykernel)",
   "language": "python",
   "name": "python3"
  },
  "language_info": {
   "codemirror_mode": {
    "name": "ipython",
    "version": 3
   },
   "file_extension": ".py",
   "mimetype": "text/x-python",
   "name": "python",
   "nbconvert_exporter": "python",
   "pygments_lexer": "ipython3",
   "version": "3.11.5"
  }
 },
 "nbformat": 4,
 "nbformat_minor": 5
}
